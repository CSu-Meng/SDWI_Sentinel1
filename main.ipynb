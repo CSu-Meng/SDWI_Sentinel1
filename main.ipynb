{
 "cells": [
  {
   "cell_type": "code",
   "execution_count": 2,
   "id": "8341b306-2df2-4d22-8b1c-c274ad2f4995",
   "metadata": {},
   "outputs": [
    {
     "data": {
      "text/html": [
       "\n",
       "            <style>\n",
       "                .geemap-dark {\n",
       "                    --jp-widgets-color: white;\n",
       "                    --jp-widgets-label-color: white;\n",
       "                    --jp-ui-font-color1: white;\n",
       "                    --jp-layout-color2: #454545;\n",
       "                    background-color: #383838;\n",
       "                }\n",
       "                    \n",
       "                .geemap-dark .jupyter-button {\n",
       "                    --jp-layout-color3: #383838;\n",
       "                }\n",
       "                \n",
       "                .geemap-colab {\n",
       "                    background-color: var(--colab-primary-surface-color, white);\n",
       "                }\n",
       "                    \n",
       "                .geemap-colab .jupyter-button {\n",
       "                    --jp-layout-color3: var(--colab-primary-surface-color, white);\n",
       "                }\n",
       "            </style>\n",
       "            "
      ],
      "text/plain": [
       "<IPython.core.display.HTML object>"
      ]
     },
     "metadata": {},
     "output_type": "display_data"
    }
   ],
   "source": [
    "import ee\n",
    "import geemap"
   ]
  },
  {
   "cell_type": "code",
   "execution_count": 25,
   "id": "afac061b-fd5f-4340-afec-6c5c10a958c5",
   "metadata": {},
   "outputs": [
    {
     "data": {
      "text/html": [
       "\n",
       "            <style>\n",
       "                .geemap-dark {\n",
       "                    --jp-widgets-color: white;\n",
       "                    --jp-widgets-label-color: white;\n",
       "                    --jp-ui-font-color1: white;\n",
       "                    --jp-layout-color2: #454545;\n",
       "                    background-color: #383838;\n",
       "                }\n",
       "                    \n",
       "                .geemap-dark .jupyter-button {\n",
       "                    --jp-layout-color3: #383838;\n",
       "                }\n",
       "                \n",
       "                .geemap-colab {\n",
       "                    background-color: var(--colab-primary-surface-color, white);\n",
       "                }\n",
       "                    \n",
       "                .geemap-colab .jupyter-button {\n",
       "                    --jp-layout-color3: var(--colab-primary-surface-color, white);\n",
       "                }\n",
       "            </style>\n",
       "            "
      ],
      "text/plain": [
       "<IPython.core.display.HTML object>"
      ]
     },
     "metadata": {},
     "output_type": "display_data"
    }
   ],
   "source": [
    "# 定义图像筛选范围，以及处理的范围\n",
    "filterBounds = ee.Geometry.Polygon(\n",
    "        [[[115.89335295058125, 29.1647342800867],\n",
    "          [115.89335295058125, 28.679123179456887],\n",
    "          [116.07462736464375, 28.679123179456887],\n",
    "          [116.07462736464375, 29.1647342800867]]])\n",
    "clipBounds = ee.Geometry.Polygon(\n",
    "        [[[114.8788509939312, 28.78073124611252],\n",
    "          [115.10783048964375, 27.82266163598324],\n",
    "          [117.43693205214375, 28.307383987156218],\n",
    "          [117.06339689589375, 30.23354180444954],\n",
    "          [114.65739103651875, 29.72918456376267]]])"
   ]
  },
  {
   "cell_type": "code",
   "execution_count": 5,
   "id": "f1812e1c-cd33-4527-b69b-a0561192e8d7",
   "metadata": {
    "scrolled": true
   },
   "outputs": [
    {
     "data": {
      "text/html": [
       "\n",
       "            <style>\n",
       "                .geemap-dark {\n",
       "                    --jp-widgets-color: white;\n",
       "                    --jp-widgets-label-color: white;\n",
       "                    --jp-ui-font-color1: white;\n",
       "                    --jp-layout-color2: #454545;\n",
       "                    background-color: #383838;\n",
       "                }\n",
       "                    \n",
       "                .geemap-dark .jupyter-button {\n",
       "                    --jp-layout-color3: #383838;\n",
       "                }\n",
       "                \n",
       "                .geemap-colab {\n",
       "                    background-color: var(--colab-primary-surface-color, white);\n",
       "                }\n",
       "                    \n",
       "                .geemap-colab .jupyter-button {\n",
       "                    --jp-layout-color3: var(--colab-primary-surface-color, white);\n",
       "                }\n",
       "            </style>\n",
       "            "
      ],
      "text/plain": [
       "<IPython.core.display.HTML object>"
      ]
     },
     "metadata": {},
     "output_type": "display_data"
    }
   ],
   "source": [
    "from model.myModel import filterS1\n",
    "\n",
    "starTime = '2016-01-01'\n",
    "endTime = '2024-01-01'\n",
    "S1_collection = filterS1(filterBounds, starTime, endTime).filter(ee.Filter.neq('year_month_day','2018_03_15'))"
   ]
  },
  {
   "cell_type": "code",
   "execution_count": null,
   "id": "e6574a86-771a-4c15-8a8b-82a9683b16ec",
   "metadata": {},
   "outputs": [],
   "source": [
    "from model.ImageCollectionMosaic import setYMD, mosaic_collection_by_properties\n",
    "\n",
    "# 设置'year_month_day'属性，并合并同日期的影像，裁剪至研究区域\n",
    "S1_collectionYm = setYMD(S1_collection)\n",
    "mosaic_s1 = mosaic_collection_by_properties(setYMD(S1_collection), 'year_month_day', clipBounds)"
   ]
  },
  {
   "cell_type": "code",
   "execution_count": null,
   "id": "d121aad4-b0c2-40d7-abe7-1da59bf480de",
   "metadata": {},
   "outputs": [],
   "source": [
    "from model.myModel import my_SDWI\n",
    "# 使用SDWI方法识别影像中的水域      \n",
    "SDWI_collection = my_SDWI(mosaic_s1)"
   ]
  },
  {
   "cell_type": "code",
   "execution_count": null,
   "id": "32e3e30b-5fde-4573-a5d8-061fdbf4b141",
   "metadata": {},
   "outputs": [],
   "source": [
    "from model.myModel import water_area\n",
    "# 计算研究区域中每个日期所包含的水域的面积（单位：平方千米）\n",
    "SDWI_collection_waterArea = water_area(SDWI_collection,'SDWI',1,clipBounds)"
   ]
  },
  {
   "cell_type": "code",
   "execution_count": null,
   "id": "59141e53-713a-43b2-bbdd-fc718d796d29",
   "metadata": {},
   "outputs": [],
   "source": [
    "from model.myModel import SWO\n",
    "# 计算2015年至2022年间地表水出现频率\n",
    "SWO_result =  SWO(SDWI_monthly_history)"
   ]
  }
 ],
 "metadata": {
  "kernelspec": {
   "display_name": "Python 3 (ipykernel)",
   "language": "python",
   "name": "python3"
  },
  "language_info": {
   "codemirror_mode": {
    "name": "ipython",
    "version": 3
   },
   "file_extension": ".py",
   "mimetype": "text/x-python",
   "name": "python",
   "nbconvert_exporter": "python",
   "pygments_lexer": "ipython3",
   "version": "3.12.1"
  }
 },
 "nbformat": 4,
 "nbformat_minor": 5
}
